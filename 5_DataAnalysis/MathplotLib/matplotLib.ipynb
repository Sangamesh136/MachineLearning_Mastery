{
 "cells": [
  {
   "cell_type": "markdown",
   "metadata": {},
   "source": [
    "# Data Visualization using Matplotlib\n",
    "- Widely used for data analysis and visualization in data science and analysis\n",
    "\n",
    "- Enables creation of static, animated and interactive visualization"
   ]
  },
  {
   "cell_type": "code",
   "execution_count": null,
   "metadata": {},
   "outputs": [],
   "source": [
    "!pip install matplotlib\n",
    "import matplotlib.pyplot as plt"
   ]
  },
  {
   "cell_type": "markdown",
   "metadata": {},
   "source": [
    "- Creating a line plot"
   ]
  },
  {
   "cell_type": "code",
   "execution_count": null,
   "metadata": {},
   "outputs": [],
   "source": [
    "x= [1,2,3,4,5]\n",
    "\n",
    "y = [5,4,3,2,1]\n",
    "\n",
    "plt.plot(x,y)\n",
    "\n",
    "plt.xlabel('x axis')\n",
    "\n",
    "plt.ylabel('y axis')\n",
    "\n",
    "plt.title(\"Sample ploting graph\")\n",
    "\n",
    "plt.show()"
   ]
  },
  {
   "cell_type": "markdown",
   "metadata": {},
   "source": [
    "- Creating a customized plot"
   ]
  },
  {
   "cell_type": "code",
   "execution_count": null,
   "metadata": {},
   "outputs": [],
   "source": [
    "x = [1,2,3,4,5]\n",
    "\n",
    "y = [2,5,3,7,8]\n",
    "\n",
    "# plt.plot(x,y,color= 'red',marker='*',linestyle='--',linewidth=5,markersize = 10)\n",
    "\n",
    "plt.plot(x,y, color= 'purple',marker='o',linestyle='-')\n",
    "\n",
    "plt.xlabel(\"x axis\")\n",
    "\n",
    "plt.ylabel('Y axis')\n",
    "\n",
    "plt.title(\"customized plotting\")\n",
    "\n",
    "plt.grid(True)\n",
    "\n",
    "plt.show()"
   ]
  },
  {
   "cell_type": "markdown",
   "metadata": {},
   "source": [
    "- Creating a pie chart"
   ]
  },
  {
   "cell_type": "code",
   "execution_count": null,
   "metadata": {},
   "outputs": [],
   "source": [
    "labels = ['A','B','C','D','E']\n",
    "values = [50,5,10,20,15]\n",
    "colors = ['Red','Blue','Green','Orange','Yellow']\n",
    "explode = (0,0,0,0,0)\n",
    "plt.pie(values, labels=labels, colors=colors, explode=explode, autopct=\"%1.1f%%\")\n",
    "plt.title(\"Sample Pie Chart\")\n",
    "plt.show()"
   ]
  }
 ],
 "metadata": {
  "kernelspec": {
   "display_name": "Python 3",
   "language": "python",
   "name": "python3"
  },
  "language_info": {
   "name": "python",
   "version": "3.8.5"
  }
 },
 "nbformat": 4,
 "nbformat_minor": 4
}
