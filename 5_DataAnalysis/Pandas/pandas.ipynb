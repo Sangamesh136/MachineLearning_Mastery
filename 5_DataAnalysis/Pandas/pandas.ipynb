{
 "cells": [
  {
   "cell_type": "markdown",
   "metadata": {},
   "source": [
    "# Pandas - DataFrame and Series"
   ]
  },
  {
   "cell_type": "markdown",
   "metadata": {},
   "source": [
    "- Powerful data manipulation library\n",
    "- pandas is widely used from data analysis and cleaning\n",
    "- It provides tow data structures:\n",
    "- Series (1-dimensional, labeled, array-like Object)\n",
    "- DataFrame (2-dimensional, labeled, size-mutable,potentially heterogeneous data structure with with labeled axes(rows and columns)) (size mutable)\n",
    "- It also provides data alignment, data merging, reshaping, and pivoting capabilities.\n"
   ]
  },
  {
   "cell_type": "code",
   "execution_count": 2,
   "metadata": {},
   "outputs": [],
   "source": [
    "import pandas as pd"
   ]
  },
  {
   "cell_type": "markdown",
   "metadata": {},
   "source": [
    "## Pandas Series:\n",
    "-  Series is a one-dimensional labeled array of values. It is similar to a list, but with additional features like alignment and missing data handling.  It is a powerful data structure for data manipulation and analysis. \n",
    "-  Series can be created from a list, dictionary, or other iterable. It can also be  created from a NumPy array or another Series. \n",
    "-  Series has several methods for data manipulation, such as filtering, sorting, grouping, and merging . It also has methods for statistical analysis, such as mean, median, and standard deviation.\n",
    "\n",
    "- similar to a column in a table\n",
    "- It has indices that start from '0'\n",
    "\n",
    "\n"
   ]
  },
  {
   "cell_type": "markdown",
   "metadata": {},
   "source": [
    "#### Creating series from list"
   ]
  },
  {
   "cell_type": "code",
   "execution_count": 3,
   "metadata": {},
   "outputs": [
    {
     "name": "stdout",
     "output_type": "stream",
     "text": [
      "0    1\n",
      "1    2\n",
      "2    3\n",
      "3    4\n",
      "4    5\n",
      "dtype: int64\n"
     ]
    }
   ],
   "source": [
    "import pandas as pd\n",
    "data = [1,2,3,4,5]\n",
    "series = pd.Series(data)\n",
    "print(series)\n",
    "\n"
   ]
  },
  {
   "cell_type": "markdown",
   "metadata": {},
   "source": [
    "#### Creating series from a dictionary\n",
    "- In this the key becomes the index of the series"
   ]
  },
  {
   "cell_type": "code",
   "execution_count": 6,
   "metadata": {},
   "outputs": [
    {
     "name": "stdout",
     "output_type": "stream",
     "text": [
      "a    1\n",
      "b    2\n",
      "c    3\n",
      "dtype: int64\n"
     ]
    }
   ],
   "source": [
    "data = {'a':1,'b':2,'c':3}\n",
    "series = pd.Series(data)\n",
    "print(series)\n",
    "\n",
    "data = [1,2,3,4,5]\n"
   ]
  },
  {
   "cell_type": "markdown",
   "metadata": {},
   "source": [
    "The indices can be specially assigned (custom indexing)"
   ]
  },
  {
   "cell_type": "code",
   "execution_count": 8,
   "metadata": {},
   "outputs": [
    {
     "name": "stdout",
     "output_type": "stream",
     "text": [
      "a    1\n",
      "b    2\n",
      "c    3\n",
      "d    4\n",
      "e    5\n",
      "dtype: int64\n"
     ]
    }
   ],
   "source": [
    "data = [1,2,3,4,5]\n",
    "indices = ['a','b','c','d','e']\n",
    "series = pd.Series(data,index=indices)\n",
    "print(series)"
   ]
  },
  {
   "cell_type": "markdown",
   "metadata": {},
   "source": [
    "## Pandas Dataframe:\n",
    "- Has multiple rows and columns\n",
    "- It is like a dictionary of lists / list of dictionary\n",
    "- Similar to tables in SQL"
   ]
  },
  {
   "cell_type": "code",
   "execution_count": 13,
   "metadata": {},
   "outputs": [
    {
     "name": "stdout",
     "output_type": "stream",
     "text": [
      "        Name  Age   Location\n",
      "a  Sangamesh   20  Bangalore\n",
      "b        Sam   21     Mumbai\n",
      "c      Nutan   22      Delhi\n"
     ]
    }
   ],
   "source": [
    "data = {\n",
    "  'Name':['Sangamesh','Sam','Nutan'],\n",
    "  'Age':[20,21,22],\n",
    "  'Location':['Bangalore','Mumbai','Delhi']\n",
    "}\n",
    "indices = ['a','b','c']\n",
    "df = pd.DataFrame(data, index = indices)\n",
    "print(df)"
   ]
  },
  {
   "cell_type": "code",
   "execution_count": 7,
   "metadata": {},
   "outputs": [
    {
     "name": "stdout",
     "output_type": "stream",
     "text": [
      "     name  age\n",
      "0    John   25\n",
      "1  Alice    30\n",
      "2     Bob   35\n"
     ]
    }
   ],
   "source": [
    "# list of dictionary\n",
    "data = [{'name': 'John', 'age': 25},  \n",
    "             {'name': 'Alice ', 'age': 30}, \n",
    "             {'name': 'Bob', 'age': 35}]\n",
    "print(pd.DataFrame(data)) \n"
   ]
  },
  {
   "cell_type": "code",
   "execution_count": 4,
   "metadata": {},
   "outputs": [
    {
     "name": "stdout",
     "output_type": "stream",
     "text": [
      "   Index      Customer Id First Name   Last Name                    Company  \\\n",
      "0      1  ffeCAb7AbcB0f07      Jared      Jarvis           Sanchez-Fletcher   \n",
      "1      2  b687FfC4F1600eC      Marie      Malone                  Mckay PLC   \n",
      "2      3  9FF9ACbc69dcF9c     Elijah     Barrera             Marks and Sons   \n",
      "3      4  b49edDB1295FF6E     Sheryl  Montgomery  Kirby, Vaughn and Sanders   \n",
      "4      5  3dcCbFEB17CCf2E     Jeremy     Houston             Lester-Manning   \n",
      "\n",
      "             City                                       Country  \\\n",
      "0   Hatfieldshire                                       Eritrea   \n",
      "1  Robertsonburgh                                      Botswana   \n",
      "2         Kimbury                                      Barbados   \n",
      "3     Briannaview  Antarctica (the territory South of 60 deg S)   \n",
      "4   South Brianna                                    Micronesia   \n",
      "\n",
      "                Phone 1               Phone 2  \\\n",
      "0    274.188.8773x41185  001-215-760-4642x969   \n",
      "1          283-236-9529   (189)129-8356x63741   \n",
      "2            8252703789     459-916-7241x0909   \n",
      "3          425.475.3586         (392)819-9063   \n",
      "4  +1-223-666-5313x4530      252-488-3850x692   \n",
      "\n",
      "                              Email Subscription Date  \\\n",
      "0     gabriellehartman@benjamin.com        2021-11-11   \n",
      "1              kstafford@sexton.com        2021-05-14   \n",
      "2           jeanettecross@brown.com        2021-03-17   \n",
      "3          thomassierra@barrett.com        2020-09-23   \n",
      "4  rubenwatkins@jacobs-wallace.info        2020-09-18   \n",
      "\n",
      "                         Website  \n",
      "0     https://www.mccarthy.info/  \n",
      "1       http://www.reynolds.com/  \n",
      "2              https://neal.com/  \n",
      "3  https://www.powell-bryan.com/  \n",
      "4      https://www.carrillo.com/  \n"
     ]
    }
   ],
   "source": [
    "# df = pd.read_csv('sampleData.csv')\n",
    "# print(df.head(5))\n",
    "\n",
    "df = pd.read_csv('sampleData.csv')\n",
    "print(df.head(5))"
   ]
  },
  {
   "cell_type": "code",
   "execution_count": 5,
   "metadata": {},
   "outputs": [
    {
     "name": "stdout",
     "output_type": "stream",
     "text": [
      "        Index      Customer Id First Name Last Name                Company  \\\n",
      "99995   99996  67F24BEBAa16d1c       Dana   Winters  Pham, Conner and Wade   \n",
      "99996   99997  17b1dbDaB2ad0fB   Gabriela   Pacheco         Fletcher-Hodge   \n",
      "99997   99998  c586CFBA6fb9dcC    Mikayla   Hubbard             Austin Ltd   \n",
      "99998   99999  bb6cb6AC9d0CAf7     Javier      Berg              Welch Inc   \n",
      "99999  100000  FaE5E3c1Ea0dEc2     Kaylee   Hubbard            Booker-Luna   \n",
      "\n",
      "                  City       Country                Phone 1  \\\n",
      "99995         Kirkfurt  Sierra Leone           820-930-7616   \n",
      "99996    Virginiahaven       Comoros        +1-480-464-8646   \n",
      "99997       Sheriville       Mayotte  +1-567-149-3941x67118   \n",
      "99998  Stephenschester       Belarus          (381)105-4698   \n",
      "99999       New Karina       Estonia     (184)132-6303x4566   \n",
      "\n",
      "                    Phone 2                               Email  \\\n",
      "99995  +1-061-779-5511x3267                 ppittman@watson.com   \n",
      "99996   (015)822-1443x33211  murillojeremiah@mcmahon-medina.com   \n",
      "99997          361-900-3348        orhodes@harding-galloway.biz   \n",
      "99998      360-905-2308x301     rodneytanner@jennings-boone.net   \n",
      "99999          157.189.4485      krystal67@sweeney-clements.com   \n",
      "\n",
      "      Subscription Date                   Website  \n",
      "99995        2020-05-30  https://www.maynard.com/  \n",
      "99996        2022-04-09     http://www.eaton.com/  \n",
      "99997        2022-03-05        https://hayes.com/  \n",
      "99998        2021-12-29        http://zuniga.com/  \n",
      "99999        2020-07-11   https://www.walter.com/  \n"
     ]
    }
   ],
   "source": [
    "last5 = df.tail(5)\n",
    "print(last5)"
   ]
  },
  {
   "cell_type": "code",
   "execution_count": 7,
   "metadata": {},
   "outputs": [
    {
     "name": "stdout",
     "output_type": "stream",
     "text": [
      "        Name  age   location\n",
      "0  Sangamesh   21  Bangaluru\n",
      "1      Nutan   22     Mumbai\n",
      "2        Sam   23   Hydrabad\n"
     ]
    }
   ],
   "source": [
    "data = {\n",
    "  'Name':['Sangamesh','Nutan','Sam'],\n",
    "  'age':[21,22,23],\n",
    "  'location':['Bangaluru','Mumbai','Hydrabad']\n",
    "}\n",
    "df = pd.DataFrame(data)\n",
    "print(df)"
   ]
  },
  {
   "cell_type": "markdown",
   "metadata": {},
   "source": [
    "#### Accessing data from the dataframe\n",
    "- To access columns, use the column name ex: `df['Name']`\n",
    "- To access rows, use the index ex: `df.loc[0]` or `df.iloc[0]`\n"
   ]
  },
  {
   "cell_type": "markdown",
   "metadata": {},
   "source": [
    "in pandas, loc and iloc are used for data selection and manipulation, but they operate differently:\n",
    "##### `loc`\n",
    "- Label-based: Selects data based on labels or boolean arrays.\n",
    "- Inclusive: Includes both start and end labels in slicing.\n",
    "- Syntax: df.loc[row_label, column_label] \n",
    "##### `iloc`\n",
    "- Integer-based: Selects data based on integer positions.\n",
    "- Exclusive: End index is excluded in slicing.\n",
    "- Syntax: df.iloc[row_index, column_index]\n",
    " \n",
    "Key Points\n",
    "Use loc when you need to select data by labels.\n",
    "Use iloc when you need to select data by integer positions.\n",
    "This should help you understand when to use each method in your pandas DataFrame operations.\n",
    "\n"
   ]
  },
  {
   "cell_type": "code",
   "execution_count": 10,
   "metadata": {},
   "outputs": [
    {
     "name": "stdout",
     "output_type": "stream",
     "text": [
      "0    Sangamesh\n",
      "1        Nutan\n",
      "2          Sam\n",
      "Name: Name, dtype: object\n",
      "0    Bangaluru\n",
      "1       Mumbai\n",
      "2     Hydrabad\n",
      "Name: location, dtype: object\n"
     ]
    }
   ],
   "source": [
    "#for working with colums\n",
    "print(df['Name'])\n",
    "print(df['location'])"
   ]
  },
  {
   "cell_type": "code",
   "execution_count": 18,
   "metadata": {},
   "outputs": [
    {
     "name": "stdout",
     "output_type": "stream",
     "text": [
      "Name        Sangamesh\n",
      "age                21\n",
      "location    Bangaluru\n",
      "Name: 0, dtype: object\n",
      "\n",
      "Bangaluru\n",
      "\n",
      "Bangaluru\n"
     ]
    }
   ],
   "source": [
    "# for any row indexing\n",
    "print(df.loc[0])\n",
    "print()\n",
    "print(df.loc[0][2])\n",
    "print()\n",
    "print(df.loc[0,'location'])  # for any column indexing\n"
   ]
  },
  {
   "cell_type": "code",
   "execution_count": 19,
   "metadata": {},
   "outputs": [
    {
     "data": {
      "text/plain": [
       "Name        Sangamesh\n",
       "age                21\n",
       "location    Bangaluru\n",
       "Name: 0, dtype: object"
      ]
     },
     "execution_count": 19,
     "metadata": {},
     "output_type": "execute_result"
    }
   ],
   "source": [
    "df.iloc[0]"
   ]
  },
  {
   "cell_type": "code",
   "execution_count": 22,
   "metadata": {},
   "outputs": [
    {
     "name": "stdout",
     "output_type": "stream",
     "text": [
      "Bangaluru\n",
      "Bangaluru\n"
     ]
    }
   ],
   "source": [
    "# Accessing a specified element\n",
    "\n",
    "specific = df.at[0,\"location\"]\n",
    "index_specific = df.iat[0,2] #giving row index as well as column index\n",
    "\n",
    "print(specific)  \n",
    "print(index_specific)"
   ]
  },
  {
   "cell_type": "markdown",
   "metadata": {},
   "source": [
    "#### Data manipulation using DataFrames"
   ]
  },
  {
   "cell_type": "code",
   "execution_count": 17,
   "metadata": {},
   "outputs": [
    {
     "data": {
      "text/html": [
       "<div>\n",
       "<style scoped>\n",
       "    .dataframe tbody tr th:only-of-type {\n",
       "        vertical-align: middle;\n",
       "    }\n",
       "\n",
       "    .dataframe tbody tr th {\n",
       "        vertical-align: top;\n",
       "    }\n",
       "\n",
       "    .dataframe thead th {\n",
       "        text-align: right;\n",
       "    }\n",
       "</style>\n",
       "<table border=\"1\" class=\"dataframe\">\n",
       "  <thead>\n",
       "    <tr style=\"text-align: right;\">\n",
       "      <th></th>\n",
       "      <th>Name</th>\n",
       "      <th>age</th>\n",
       "      <th>location</th>\n",
       "    </tr>\n",
       "  </thead>\n",
       "  <tbody>\n",
       "    <tr>\n",
       "      <th>0</th>\n",
       "      <td>Sangamesh</td>\n",
       "      <td>21</td>\n",
       "      <td>Bangaluru</td>\n",
       "    </tr>\n",
       "    <tr>\n",
       "      <th>1</th>\n",
       "      <td>Nutan</td>\n",
       "      <td>22</td>\n",
       "      <td>Mumbai</td>\n",
       "    </tr>\n",
       "    <tr>\n",
       "      <th>2</th>\n",
       "      <td>Sam</td>\n",
       "      <td>23</td>\n",
       "      <td>Hydrabad</td>\n",
       "    </tr>\n",
       "  </tbody>\n",
       "</table>\n",
       "</div>"
      ],
      "text/plain": [
       "        Name  age   location\n",
       "0  Sangamesh   21  Bangaluru\n",
       "1      Nutan   22     Mumbai\n",
       "2        Sam   23   Hydrabad"
      ]
     },
     "execution_count": 17,
     "metadata": {},
     "output_type": "execute_result"
    }
   ],
   "source": [
    "df"
   ]
  },
  {
   "cell_type": "markdown",
   "metadata": {},
   "source": [
    "- Adding a new column"
   ]
  },
  {
   "cell_type": "code",
   "execution_count": 24,
   "metadata": {},
   "outputs": [
    {
     "name": "stdout",
     "output_type": "stream",
     "text": [
      "        Name  age   location  Salary\n",
      "0  Sangamesh   21  Bangaluru  200000\n",
      "1      Nutan   22     Mumbai  250000\n",
      "2        Sam   23   Hydrabad  300000\n"
     ]
    }
   ],
   "source": [
    "# Adding a new column\n",
    "df['Salary'] = [200000,250000,300000]\n",
    "print(df)"
   ]
  },
  {
   "cell_type": "markdown",
   "metadata": {},
   "source": [
    "### Removing a column\n",
    "- while removing a column using .drop() method, we need to provide \n",
    "1) the column name as a string \n",
    "2) axis = 1 ( for column, and 0 is for rows )\n",
    "- This will return an instance of df it is not modified in the original data, new modified data is returned"
   ]
  },
  {
   "cell_type": "code",
   "execution_count": 30,
   "metadata": {},
   "outputs": [
    {
     "data": {
      "text/html": [
       "<div>\n",
       "<style scoped>\n",
       "    .dataframe tbody tr th:only-of-type {\n",
       "        vertical-align: middle;\n",
       "    }\n",
       "\n",
       "    .dataframe tbody tr th {\n",
       "        vertical-align: top;\n",
       "    }\n",
       "\n",
       "    .dataframe thead th {\n",
       "        text-align: right;\n",
       "    }\n",
       "</style>\n",
       "<table border=\"1\" class=\"dataframe\">\n",
       "  <thead>\n",
       "    <tr style=\"text-align: right;\">\n",
       "      <th></th>\n",
       "      <th>Name</th>\n",
       "      <th>age</th>\n",
       "      <th>location</th>\n",
       "      <th>Salary</th>\n",
       "    </tr>\n",
       "  </thead>\n",
       "  <tbody>\n",
       "    <tr>\n",
       "      <th>0</th>\n",
       "      <td>Sangamesh</td>\n",
       "      <td>21</td>\n",
       "      <td>Bangaluru</td>\n",
       "      <td>200000</td>\n",
       "    </tr>\n",
       "    <tr>\n",
       "      <th>2</th>\n",
       "      <td>Sam</td>\n",
       "      <td>23</td>\n",
       "      <td>Hydrabad</td>\n",
       "      <td>300000</td>\n",
       "    </tr>\n",
       "  </tbody>\n",
       "</table>\n",
       "</div>"
      ],
      "text/plain": [
       "        Name  age   location  Salary\n",
       "0  Sangamesh   21  Bangaluru  200000\n",
       "2        Sam   23   Hydrabad  300000"
      ]
     },
     "execution_count": 30,
     "metadata": {},
     "output_type": "execute_result"
    }
   ],
   "source": [
    "df.drop('Salary',axis=1)\n",
    "df.drop(1)\n",
    "# print(df)"
   ]
  },
  {
   "cell_type": "markdown",
   "metadata": {},
   "source": [
    "```inplace= True``` this is used to update the existing dataframe while ```axis=1``` is used to specify the perticular column"
   ]
  },
  {
   "cell_type": "code",
   "execution_count": 31,
   "metadata": {},
   "outputs": [],
   "source": [
    "df.drop('Salary',axis=1,inplace=True)"
   ]
  },
  {
   "cell_type": "code",
   "execution_count": 32,
   "metadata": {},
   "outputs": [
    {
     "data": {
      "text/html": [
       "<div>\n",
       "<style scoped>\n",
       "    .dataframe tbody tr th:only-of-type {\n",
       "        vertical-align: middle;\n",
       "    }\n",
       "\n",
       "    .dataframe tbody tr th {\n",
       "        vertical-align: top;\n",
       "    }\n",
       "\n",
       "    .dataframe thead th {\n",
       "        text-align: right;\n",
       "    }\n",
       "</style>\n",
       "<table border=\"1\" class=\"dataframe\">\n",
       "  <thead>\n",
       "    <tr style=\"text-align: right;\">\n",
       "      <th></th>\n",
       "      <th>Name</th>\n",
       "      <th>age</th>\n",
       "      <th>location</th>\n",
       "    </tr>\n",
       "  </thead>\n",
       "  <tbody>\n",
       "    <tr>\n",
       "      <th>0</th>\n",
       "      <td>Sangamesh</td>\n",
       "      <td>21</td>\n",
       "      <td>Bangaluru</td>\n",
       "    </tr>\n",
       "    <tr>\n",
       "      <th>1</th>\n",
       "      <td>Nutan</td>\n",
       "      <td>22</td>\n",
       "      <td>Mumbai</td>\n",
       "    </tr>\n",
       "    <tr>\n",
       "      <th>2</th>\n",
       "      <td>Sam</td>\n",
       "      <td>23</td>\n",
       "      <td>Hydrabad</td>\n",
       "    </tr>\n",
       "  </tbody>\n",
       "</table>\n",
       "</div>"
      ],
      "text/plain": [
       "        Name  age   location\n",
       "0  Sangamesh   21  Bangaluru\n",
       "1      Nutan   22     Mumbai\n",
       "2        Sam   23   Hydrabad"
      ]
     },
     "execution_count": 32,
     "metadata": {},
     "output_type": "execute_result"
    }
   ],
   "source": [
    "df"
   ]
  },
  {
   "cell_type": "markdown",
   "metadata": {},
   "source": [
    "- Now the salary has been removied"
   ]
  },
  {
   "cell_type": "markdown",
   "metadata": {},
   "source": [
    "- incrementing age to the column"
   ]
  },
  {
   "cell_type": "code",
   "execution_count": 51,
   "metadata": {},
   "outputs": [
    {
     "data": {
      "text/html": [
       "<div>\n",
       "<style scoped>\n",
       "    .dataframe tbody tr th:only-of-type {\n",
       "        vertical-align: middle;\n",
       "    }\n",
       "\n",
       "    .dataframe tbody tr th {\n",
       "        vertical-align: top;\n",
       "    }\n",
       "\n",
       "    .dataframe thead th {\n",
       "        text-align: right;\n",
       "    }\n",
       "</style>\n",
       "<table border=\"1\" class=\"dataframe\">\n",
       "  <thead>\n",
       "    <tr style=\"text-align: right;\">\n",
       "      <th></th>\n",
       "      <th>Name</th>\n",
       "      <th>age</th>\n",
       "      <th>location</th>\n",
       "    </tr>\n",
       "  </thead>\n",
       "  <tbody>\n",
       "    <tr>\n",
       "      <th>1</th>\n",
       "      <td>Nutan</td>\n",
       "      <td>24</td>\n",
       "      <td>Mumbai</td>\n",
       "    </tr>\n",
       "    <tr>\n",
       "      <th>2</th>\n",
       "      <td>Sam</td>\n",
       "      <td>25</td>\n",
       "      <td>Hydrabad</td>\n",
       "    </tr>\n",
       "  </tbody>\n",
       "</table>\n",
       "</div>"
      ],
      "text/plain": [
       "    Name  age  location\n",
       "1  Nutan   24    Mumbai\n",
       "2    Sam   25  Hydrabad"
      ]
     },
     "execution_count": 51,
     "metadata": {},
     "output_type": "execute_result"
    }
   ],
   "source": [
    "df['age']=df['age']+1\n",
    "df"
   ]
  },
  {
   "cell_type": "markdown",
   "metadata": {},
   "source": [
    "- Droping based on the rows using index"
   ]
  },
  {
   "cell_type": "code",
   "execution_count": null,
   "metadata": {},
   "outputs": [],
   "source": [
    "df.drop(0,inplace = True)\n",
    "df"
   ]
  },
  {
   "cell_type": "markdown",
   "metadata": {},
   "source": [
    "#### Some important attributes of DataFrames:"
   ]
  },
  {
   "cell_type": "code",
   "execution_count": 53,
   "metadata": {},
   "outputs": [
    {
     "data": {
      "text/html": [
       "<div>\n",
       "<style scoped>\n",
       "    .dataframe tbody tr th:only-of-type {\n",
       "        vertical-align: middle;\n",
       "    }\n",
       "\n",
       "    .dataframe tbody tr th {\n",
       "        vertical-align: top;\n",
       "    }\n",
       "\n",
       "    .dataframe thead th {\n",
       "        text-align: right;\n",
       "    }\n",
       "</style>\n",
       "<table border=\"1\" class=\"dataframe\">\n",
       "  <thead>\n",
       "    <tr style=\"text-align: right;\">\n",
       "      <th></th>\n",
       "      <th>Index</th>\n",
       "      <th>Customer Id</th>\n",
       "      <th>First Name</th>\n",
       "      <th>Last Name</th>\n",
       "      <th>Company</th>\n",
       "      <th>City</th>\n",
       "      <th>Country</th>\n",
       "      <th>Phone 1</th>\n",
       "      <th>Phone 2</th>\n",
       "      <th>Email</th>\n",
       "      <th>Subscription Date</th>\n",
       "      <th>Website</th>\n",
       "    </tr>\n",
       "  </thead>\n",
       "  <tbody>\n",
       "    <tr>\n",
       "      <th>0</th>\n",
       "      <td>1</td>\n",
       "      <td>ffeCAb7AbcB0f07</td>\n",
       "      <td>Jared</td>\n",
       "      <td>Jarvis</td>\n",
       "      <td>Sanchez-Fletcher</td>\n",
       "      <td>Hatfieldshire</td>\n",
       "      <td>Eritrea</td>\n",
       "      <td>274.188.8773x41185</td>\n",
       "      <td>001-215-760-4642x969</td>\n",
       "      <td>gabriellehartman@benjamin.com</td>\n",
       "      <td>2021-11-11</td>\n",
       "      <td>https://www.mccarthy.info/</td>\n",
       "    </tr>\n",
       "    <tr>\n",
       "      <th>1</th>\n",
       "      <td>2</td>\n",
       "      <td>b687FfC4F1600eC</td>\n",
       "      <td>Marie</td>\n",
       "      <td>Malone</td>\n",
       "      <td>Mckay PLC</td>\n",
       "      <td>Robertsonburgh</td>\n",
       "      <td>Botswana</td>\n",
       "      <td>283-236-9529</td>\n",
       "      <td>(189)129-8356x63741</td>\n",
       "      <td>kstafford@sexton.com</td>\n",
       "      <td>2021-05-14</td>\n",
       "      <td>http://www.reynolds.com/</td>\n",
       "    </tr>\n",
       "    <tr>\n",
       "      <th>2</th>\n",
       "      <td>3</td>\n",
       "      <td>9FF9ACbc69dcF9c</td>\n",
       "      <td>Elijah</td>\n",
       "      <td>Barrera</td>\n",
       "      <td>Marks and Sons</td>\n",
       "      <td>Kimbury</td>\n",
       "      <td>Barbados</td>\n",
       "      <td>8252703789</td>\n",
       "      <td>459-916-7241x0909</td>\n",
       "      <td>jeanettecross@brown.com</td>\n",
       "      <td>2021-03-17</td>\n",
       "      <td>https://neal.com/</td>\n",
       "    </tr>\n",
       "    <tr>\n",
       "      <th>3</th>\n",
       "      <td>4</td>\n",
       "      <td>b49edDB1295FF6E</td>\n",
       "      <td>Sheryl</td>\n",
       "      <td>Montgomery</td>\n",
       "      <td>Kirby, Vaughn and Sanders</td>\n",
       "      <td>Briannaview</td>\n",
       "      <td>Antarctica (the territory South of 60 deg S)</td>\n",
       "      <td>425.475.3586</td>\n",
       "      <td>(392)819-9063</td>\n",
       "      <td>thomassierra@barrett.com</td>\n",
       "      <td>2020-09-23</td>\n",
       "      <td>https://www.powell-bryan.com/</td>\n",
       "    </tr>\n",
       "    <tr>\n",
       "      <th>4</th>\n",
       "      <td>5</td>\n",
       "      <td>3dcCbFEB17CCf2E</td>\n",
       "      <td>Jeremy</td>\n",
       "      <td>Houston</td>\n",
       "      <td>Lester-Manning</td>\n",
       "      <td>South Brianna</td>\n",
       "      <td>Micronesia</td>\n",
       "      <td>+1-223-666-5313x4530</td>\n",
       "      <td>252-488-3850x692</td>\n",
       "      <td>rubenwatkins@jacobs-wallace.info</td>\n",
       "      <td>2020-09-18</td>\n",
       "      <td>https://www.carrillo.com/</td>\n",
       "    </tr>\n",
       "  </tbody>\n",
       "</table>\n",
       "</div>"
      ],
      "text/plain": [
       "   Index      Customer Id First Name   Last Name                    Company  \\\n",
       "0      1  ffeCAb7AbcB0f07      Jared      Jarvis           Sanchez-Fletcher   \n",
       "1      2  b687FfC4F1600eC      Marie      Malone                  Mckay PLC   \n",
       "2      3  9FF9ACbc69dcF9c     Elijah     Barrera             Marks and Sons   \n",
       "3      4  b49edDB1295FF6E     Sheryl  Montgomery  Kirby, Vaughn and Sanders   \n",
       "4      5  3dcCbFEB17CCf2E     Jeremy     Houston             Lester-Manning   \n",
       "\n",
       "             City                                       Country  \\\n",
       "0   Hatfieldshire                                       Eritrea   \n",
       "1  Robertsonburgh                                      Botswana   \n",
       "2         Kimbury                                      Barbados   \n",
       "3     Briannaview  Antarctica (the territory South of 60 deg S)   \n",
       "4   South Brianna                                    Micronesia   \n",
       "\n",
       "                Phone 1               Phone 2  \\\n",
       "0    274.188.8773x41185  001-215-760-4642x969   \n",
       "1          283-236-9529   (189)129-8356x63741   \n",
       "2            8252703789     459-916-7241x0909   \n",
       "3          425.475.3586         (392)819-9063   \n",
       "4  +1-223-666-5313x4530      252-488-3850x692   \n",
       "\n",
       "                              Email Subscription Date  \\\n",
       "0     gabriellehartman@benjamin.com        2021-11-11   \n",
       "1              kstafford@sexton.com        2021-05-14   \n",
       "2           jeanettecross@brown.com        2021-03-17   \n",
       "3          thomassierra@barrett.com        2020-09-23   \n",
       "4  rubenwatkins@jacobs-wallace.info        2020-09-18   \n",
       "\n",
       "                         Website  \n",
       "0     https://www.mccarthy.info/  \n",
       "1       http://www.reynolds.com/  \n",
       "2              https://neal.com/  \n",
       "3  https://www.powell-bryan.com/  \n",
       "4      https://www.carrillo.com/  "
      ]
     },
     "execution_count": 53,
     "metadata": {},
     "output_type": "execute_result"
    }
   ],
   "source": [
    "df= pd.read_csv('sampleData.csv')\n",
    "df.head(5)"
   ]
  },
  {
   "cell_type": "code",
   "execution_count": 54,
   "metadata": {},
   "outputs": [
    {
     "data": {
      "text/html": [
       "<div>\n",
       "<style scoped>\n",
       "    .dataframe tbody tr th:only-of-type {\n",
       "        vertical-align: middle;\n",
       "    }\n",
       "\n",
       "    .dataframe tbody tr th {\n",
       "        vertical-align: top;\n",
       "    }\n",
       "\n",
       "    .dataframe thead th {\n",
       "        text-align: right;\n",
       "    }\n",
       "</style>\n",
       "<table border=\"1\" class=\"dataframe\">\n",
       "  <thead>\n",
       "    <tr style=\"text-align: right;\">\n",
       "      <th></th>\n",
       "      <th>Index</th>\n",
       "    </tr>\n",
       "  </thead>\n",
       "  <tbody>\n",
       "    <tr>\n",
       "      <th>count</th>\n",
       "      <td>100000.000000</td>\n",
       "    </tr>\n",
       "    <tr>\n",
       "      <th>mean</th>\n",
       "      <td>50000.500000</td>\n",
       "    </tr>\n",
       "    <tr>\n",
       "      <th>std</th>\n",
       "      <td>28867.657797</td>\n",
       "    </tr>\n",
       "    <tr>\n",
       "      <th>min</th>\n",
       "      <td>1.000000</td>\n",
       "    </tr>\n",
       "    <tr>\n",
       "      <th>25%</th>\n",
       "      <td>25000.750000</td>\n",
       "    </tr>\n",
       "    <tr>\n",
       "      <th>50%</th>\n",
       "      <td>50000.500000</td>\n",
       "    </tr>\n",
       "    <tr>\n",
       "      <th>75%</th>\n",
       "      <td>75000.250000</td>\n",
       "    </tr>\n",
       "    <tr>\n",
       "      <th>max</th>\n",
       "      <td>100000.000000</td>\n",
       "    </tr>\n",
       "  </tbody>\n",
       "</table>\n",
       "</div>"
      ],
      "text/plain": [
       "               Index\n",
       "count  100000.000000\n",
       "mean    50000.500000\n",
       "std     28867.657797\n",
       "min         1.000000\n",
       "25%     25000.750000\n",
       "50%     50000.500000\n",
       "75%     75000.250000\n",
       "max    100000.000000"
      ]
     },
     "execution_count": 54,
     "metadata": {},
     "output_type": "execute_result"
    }
   ],
   "source": [
    "df.describe()"
   ]
  },
  {
   "cell_type": "code",
   "execution_count": null,
   "metadata": {},
   "outputs": [],
   "source": []
  }
 ],
 "metadata": {
  "kernelspec": {
   "display_name": "cuda_test",
   "language": "python",
   "name": "python3"
  },
  "language_info": {
   "codemirror_mode": {
    "name": "ipython",
    "version": 3
   },
   "file_extension": ".py",
   "mimetype": "text/x-python",
   "name": "python",
   "nbconvert_exporter": "python",
   "pygments_lexer": "ipython3",
   "version": "3.8.20"
  }
 },
 "nbformat": 4,
 "nbformat_minor": 2
}
