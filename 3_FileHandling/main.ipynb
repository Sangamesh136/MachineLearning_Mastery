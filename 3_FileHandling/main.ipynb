{
 "cells": [
  {
   "cell_type": "markdown",
   "metadata": {},
   "source": [
    "## File operations -Read and write Files\n"
   ]
  },
  {
   "cell_type": "code",
   "execution_count": 5,
   "metadata": {},
   "outputs": [
    {
     "name": "stdout",
     "output_type": "stream",
     "text": [
      "Hello how are you \n"
     ]
    }
   ],
   "source": [
    "# in order to Read an entire file:\n",
    "f = open('example.txt','a')\n",
    "f.write('Hello how are you')\n",
    "f.close()\n",
    "with open('example.txt','r') as file:\n",
    "  content = file.read()\n",
    "  print(content)"
   ]
  },
  {
   "cell_type": "code",
   "execution_count": null,
   "metadata": {},
   "outputs": [],
   "source": [
    "# in order to read the content line by line,\n",
    "with open('example.txt', 'r') as f:\n",
    "  for line in f:\n",
    "    print(line.strip())   # removes the new line operations\n",
    "  for line in f:\n",
    "    print(line)\n",
    " "
   ]
  },
  {
   "cell_type": "markdown",
   "metadata": {},
   "source": [
    "Overwriting the file contents"
   ]
  },
  {
   "cell_type": "code",
   "execution_count": null,
   "metadata": {},
   "outputs": [],
   "source": [
    "with open('example.txt','w') as f:\n",
    "  f.write(\"hello world\");\n",
    "\n",
    "with open('example.txt','r')as f:\n",
    "  content = f.read()\n",
    "  print(content)"
   ]
  },
  {
   "cell_type": "markdown",
   "metadata": {},
   "source": [
    "writing a file without overwriting"
   ]
  },
  {
   "cell_type": "code",
   "execution_count": null,
   "metadata": {},
   "outputs": [],
   "source": [
    "with open('example.txt','a') as f:\n",
    "  f.write('\\n how are you')\n",
    "with open('example.txt','r')as f:\n",
    "  content = f.read()\n",
    "  print(content)"
   ]
  },
  {
   "cell_type": "markdown",
   "metadata": {},
   "source": [
    "Operations with binary files `(.bin)`"
   ]
  },
  {
   "cell_type": "code",
   "execution_count": 19,
   "metadata": {},
   "outputs": [],
   "source": [
    "data = b'\\x00\\x01\\x02\\x03\\x04'\n",
    "with open('example2.bin','wb') as f:\n",
    "  f.write(data)"
   ]
  },
  {
   "cell_type": "code",
   "execution_count": null,
   "metadata": {},
   "outputs": [],
   "source": [
    "with open('example2.bin','rb') as f:\n",
    "  content = f.read()\n",
    "  print(content)"
   ]
  },
  {
   "cell_type": "markdown",
   "metadata": {},
   "source": [
    "Copy contents into a new file"
   ]
  },
  {
   "cell_type": "code",
   "execution_count": 23,
   "metadata": {},
   "outputs": [],
   "source": [
    "with open('example.txt','r') as source:\n",
    "  content = source.read()\n",
    "with open('destination.txt','w') as destination:\n",
    "  destination.write(content)\n"
   ]
  },
  {
   "cell_type": "code",
   "execution_count": null,
   "metadata": {},
   "outputs": [],
   "source": [
    "with open('destination.txt','r') as f:\n",
    "  content = f.read()\n",
    "  print(content)"
   ]
  },
  {
   "cell_type": "markdown",
   "metadata": {},
   "source": [
    "`w+` is the mode of opening a file in both reading and writing mode. If the file doesn't exists. it will create a new file and if already exists, it will be overwrittin"
   ]
  },
  {
   "cell_type": "code",
   "execution_count": null,
   "metadata": {},
   "outputs": [],
   "source": [
    "with open('example.txt','w+') as f:\n",
    "  f.write('This is the overwritten one \\n')\n",
    "  f.write('Hello world')\n",
    "  # Move the cursor to the top so that the reading can be done from the beginning\n",
    "  f.seek(0)\n",
    "  #Read the content of the file\n",
    "  content = f.read()\n",
    "  print(content)"
   ]
  },
  {
   "cell_type": "code",
   "execution_count": 27,
   "metadata": {},
   "outputs": [
    {
     "name": "stdout",
     "output_type": "stream",
     "text": [
      "This is the overwritten one \n",
      "Hello world\n"
     ]
    }
   ],
   "source": [
    "with open('example.txt','w+') as f:\n",
    "  f.write('This is the overwritten one \\n')\n",
    "  f.write('Hello world')\n",
    "  # Move the cursor to the top so that the reading can be done from the beginning\n",
    "  f.seek(0)\n",
    "  #Read the content of the file\n",
    "  content = f.read()\n",
    "  print(content)"
   ]
  },
  {
   "cell_type": "code",
   "execution_count": null,
   "metadata": {},
   "outputs": [],
   "source": []
  }
 ],
 "metadata": {
  "kernelspec": {
   "display_name": "Python 3",
   "language": "python",
   "name": "python3"
  },
  "language_info": {
   "codemirror_mode": {
    "name": "ipython",
    "version": 3
   },
   "file_extension": ".py",
   "mimetype": "text/x-python",
   "name": "python",
   "nbconvert_exporter": "python",
   "pygments_lexer": "ipython3",
   "version": "3.12.0"
  }
 },
 "nbformat": 4,
 "nbformat_minor": 2
}
