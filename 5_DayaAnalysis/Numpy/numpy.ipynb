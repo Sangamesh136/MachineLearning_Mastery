{
 "cells": [
  {
   "cell_type": "markdown",
   "metadata": {},
   "source": [
    "## NUMPY"
   ]
  },
  {
   "cell_type": "markdown",
   "metadata": {},
   "source": [
    "- It provides support for arrays and matrices, along with a collection of mathematical functions to operate on these data structures."
   ]
  },
  {
   "cell_type": "code",
   "execution_count": null,
   "metadata": {},
   "outputs": [],
   "source": [
    "pip install numpy"
   ]
  },
  {
   "cell_type": "code",
   "execution_count": 2,
   "metadata": {},
   "outputs": [],
   "source": [
    "import numpy as np"
   ]
  },
  {
   "cell_type": "code",
   "execution_count": null,
   "metadata": {},
   "outputs": [],
   "source": [
    "import numpy as np\n",
    "arr1 = np.array([1,2,3,4,5])\n",
    "print(arr1)\n",
    "print(type(arr1))\n",
    "print(arr1.shape)"
   ]
  },
  {
   "cell_type": "markdown",
   "metadata": {},
   "source": [
    "- the arr1 is of the type numpy array\n",
    "- `shape` gives the dimension of the array\n",
    "- `reshape()` is used to change the dimension of the array"
   ]
  },
  {
   "cell_type": "code",
   "execution_count": 9,
   "metadata": {},
   "outputs": [
    {
     "name": "stdout",
     "output_type": "stream",
     "text": [
      "[[1 2 3 4 5 6]]\n",
      "(6,)\n"
     ]
    }
   ],
   "source": [
    "arr2= np.array([1,2,3,4,5,6])\n",
    "print(arr2.reshape(1,6))\n",
    "print(arr2.shape)"
   ]
  },
  {
   "cell_type": "markdown",
   "metadata": {},
   "source": [
    "- here reshape is taking 2 arugements, (1,5) where 1 --> no. of rows and 5 --> no. of columns"
   ]
  },
  {
   "cell_type": "code",
   "execution_count": null,
   "metadata": {},
   "outputs": [],
   "source": [
    "arr3 = np.array([[1,2,3,4],[5,6,7,8],[9,10,11,12]])\n",
    "print(arr3)\n",
    "print(arr3.reshape(4,3))\n",
    "print(arr3.shape)"
   ]
  },
  {
   "cell_type": "markdown",
   "metadata": {},
   "source": [
    "Some builtin methods\n",
    "- ``` np.arange(start,end,updation)``` generates an arrays containing values from start to end with the updation  value.\n",
    "- ` np.once((rows,cols)) `  generates an array of ones with the specified number of rows and columns.\n",
    "-  ` np.zeros((rows,cols)) `  generates an array of zeros with the specified number of rows and columns.\n",
    "- ` np.eye(value)` generates an identity matrix  with the specified value on the diagonal.\n",
    "\n"
   ]
  },
  {
   "cell_type": "code",
   "execution_count": null,
   "metadata": {},
   "outputs": [],
   "source": [
    "arr4 = np.arange(0,12,2)\n",
    "print(arr4)"
   ]
  },
  {
   "cell_type": "code",
   "execution_count": null,
   "metadata": {},
   "outputs": [],
   "source": [
    "arr5 = np.ones((3,4))\n",
    "print(arr5)"
   ]
  },
  {
   "cell_type": "markdown",
   "metadata": {},
   "source": [
    "##### Some attributes of numpy array:"
   ]
  },
  {
   "cell_type": "code",
   "execution_count": null,
   "metadata": {},
   "outputs": [],
   "source": [
    "arr = np.array([[1,2,3,4],[5,6,7,8],[9,10,11,12],[13,14,15,16]])\n",
    "print(\"Array:\",arr)\n",
    "print(\"No of dimensions:\", arr.ndim)\n",
    "print(\"size of the array:\", arr.size)\n",
    "print(\"Data type:\",arr.dtype)\n",
    "print(\"Shape of the array:\", arr.shape)"
   ]
  },
  {
   "cell_type": "markdown",
   "metadata": {},
   "source": [
    "##### Some vector operations "
   ]
  },
  {
   "cell_type": "code",
   "execution_count": null,
   "metadata": {},
   "outputs": [],
   "source": [
    "arr1 = np.array([1,2,3,4,5])\n",
    "arr2 = np.array([5,6,7,8,9])\n",
    "print(\"Addition:\",arr1+arr2)\n",
    "print(\"subtraction:\",arr1-arr2)\n",
    "print(\"Division:\",arr1//arr2)\n",
    "print(\"Multiplextion:\",arr1*arr2)"
   ]
  },
  {
   "cell_type": "markdown",
   "metadata": {},
   "source": [
    "#### Universal functions"
   ]
  },
  {
   "cell_type": "code",
   "execution_count": null,
   "metadata": {},
   "outputs": [],
   "source": [
    "arr = np.array([1,2,3,4,5])\n",
    "print(np.sqrt(arr))\n",
    "print(np.square(arr))\n",
    "print(np.exp(arr))\n"
   ]
  },
  {
   "cell_type": "markdown",
   "metadata": {},
   "source": [
    "#### Array slicing and indexing"
   ]
  },
  {
   "cell_type": "markdown",
   "metadata": {},
   "source": [
    "- slicing :selecting perticular columns in that perticular row, in this case row starting from 1  and column starting from 2  ```arr[1:,2:]```  "
   ]
  },
  {
   "cell_type": "code",
   "execution_count": 28,
   "metadata": {},
   "outputs": [
    {
     "name": "stdout",
     "output_type": "stream",
     "text": [
      "[[ 1  2  3  4]\n",
      " [ 5  6  7  8]\n",
      " [ 9 10 11 12]]\n",
      "7\n",
      "[[ 7  8]\n",
      " [11 12]]\n"
     ]
    }
   ],
   "source": [
    "arr =np.array([[1,2,3,4],[5,6,7,8],[9,10,11,12]])\n",
    "print(arr)\n",
    "print(arr[1][2])\n",
    "print(arr[1:,2:]) \n"
   ]
  },
  {
   "cell_type": "markdown",
   "metadata": {},
   "source": [
    "- Modifying the array elements:"
   ]
  },
  {
   "cell_type": "code",
   "execution_count": 29,
   "metadata": {},
   "outputs": [
    {
     "name": "stdout",
     "output_type": "stream",
     "text": [
      "[[100   2   3   4]\n",
      " [  5   6   7   8]\n",
      " [  9  10  11  12]]\n"
     ]
    }
   ],
   "source": [
    "arr[0,0] = 100\n",
    "print(arr)"
   ]
  },
  {
   "cell_type": "code",
   "execution_count": 30,
   "metadata": {},
   "outputs": [
    {
     "name": "stdout",
     "output_type": "stream",
     "text": [
      "[[100   2   3   4]\n",
      " [100 100 100 100]\n",
      " [100 100 100 100]]\n"
     ]
    }
   ],
   "source": [
    "arr[1:] = 100\n",
    "print(arr)"
   ]
  },
  {
   "cell_type": "markdown",
   "metadata": {},
   "source": [
    "#### Normalization"
   ]
  },
  {
   "cell_type": "markdown",
   "metadata": {},
   "source": [
    "- Normalization refers to the process of scaling numeric data to a common range, usually between 0 and 1, to prevent differences in scales from affecting the analysis or modeling. Normalization is often used in machine learning and data analysis to ensure that all features are treated equally.\n",
    "- To have `mean` = 0 and `SD` = 1"
   ]
  },
  {
   "cell_type": "code",
   "execution_count": 31,
   "metadata": {},
   "outputs": [
    {
     "name": "stdout",
     "output_type": "stream",
     "text": [
      "[-1.41421356 -0.70710678  0.          0.70710678  1.41421356]\n"
     ]
    }
   ],
   "source": [
    "data = np.array([1,2,3,4,5])\n",
    "mean = np.mean(data)\n",
    "sd = np.std(data)\n",
    "normalized = (data-mean)/sd\n",
    "print(normalized)"
   ]
  },
  {
   "cell_type": "markdown",
   "metadata": {},
   "source": [
    "#### Some statistatical concepts"
   ]
  },
  {
   "cell_type": "code",
   "execution_count": 33,
   "metadata": {},
   "outputs": [
    {
     "name": "stdout",
     "output_type": "stream",
     "text": [
      "3.0\n",
      "3.0\n",
      "2.0\n"
     ]
    }
   ],
   "source": [
    "data = np.array([1,2,3,4,5])\n",
    "mean = np.mean(data)\n",
    "std_dev = np.std(data)\n",
    "median = np.median(data)\n",
    "variance = np.var(data)\n",
    "print(mean)\n",
    "print(median)\n",
    "print(variance)"
   ]
  }
 ],
 "metadata": {
  "kernelspec": {
   "display_name": "Python 3",
   "language": "python",
   "name": "python3"
  },
  "language_info": {
   "codemirror_mode": {
    "name": "ipython",
    "version": 3
   },
   "file_extension": ".py",
   "mimetype": "text/x-python",
   "name": "python",
   "nbconvert_exporter": "python",
   "pygments_lexer": "ipython3",
   "version": "3.12.0"
  }
 },
 "nbformat": 4,
 "nbformat_minor": 2
}
