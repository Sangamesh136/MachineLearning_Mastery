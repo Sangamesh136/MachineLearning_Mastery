{
 "cells": [
  {
   "cell_type": "markdown",
   "metadata": {},
   "source": [
    "# Pandas - DataFrame and Series"
   ]
  },
  {
   "cell_type": "markdown",
   "metadata": {},
   "source": [
    "- Powerful data manipulation library\n",
    "- pandas is widely used from data analysis and cleaning\n",
    "- It provides tow data structures:\n",
    "- Series (1-dimensional labeled array of values)\n",
    "-  DataFrame (2-dimensional labeled data structure with columns of potentially different types) (size mutable)\n",
    "- It also provides data alignment, data merging, reshaping, and pivoting capabilities.\n"
   ]
  },
  {
   "cell_type": "code",
   "execution_count": 1,
   "metadata": {},
   "outputs": [],
   "source": [
    "import pandas as pd"
   ]
  },
  {
   "cell_type": "markdown",
   "metadata": {},
   "source": [
    "## Pandas Series:\n",
    "-  Series is a one-dimensional labeled array of values. It is similar to a list, but with additional features like alignment and missing data handling.  It is a powerful data structure for data manipulation and analysis. \n",
    "-  Series can be created from a list, dictionary, or other iterable. It can also be  created from a NumPy array or another Series. \n",
    "-  Series has several methods for data manipulation, such as filtering, sorting, grouping, and merging . It also has methods for statistical analysis, such as mean, median, and standard deviation.\n",
    "\n",
    "- similar to a column in a table\n",
    "\n",
    "\n",
    "\n",
    "\n"
   ]
  },
  {
   "cell_type": "markdown",
   "metadata": {},
   "source": [
    "#### Creating series from list"
   ]
  },
  {
   "cell_type": "code",
   "execution_count": null,
   "metadata": {},
   "outputs": [],
   "source": [
    "import pandas as pd\n",
    "data = [1,2,3,4,5]\n",
    "series = pd.Series(data)\n",
    "print(series)"
   ]
  },
  {
   "cell_type": "markdown",
   "metadata": {},
   "source": [
    "#### Creating series from a dictionary\n",
    "- In this the key becomes the index of the series"
   ]
  },
  {
   "cell_type": "code",
   "execution_count": null,
   "metadata": {},
   "outputs": [],
   "source": [
    "data = {'a':1,'b':2,'c':3}\n",
    "series = pd.Series(data)\n",
    "print(series)"
   ]
  },
  {
   "cell_type": "markdown",
   "metadata": {},
   "source": [
    "The indices can be specially assigned (custom indexing)"
   ]
  },
  {
   "cell_type": "code",
   "execution_count": null,
   "metadata": {},
   "outputs": [],
   "source": [
    "data = [1,2,3,4,5]\n",
    "index = ['a','b','c','z','y']\n",
    "series = pd.Series(data,index = index)\n",
    "print(series)"
   ]
  },
  {
   "cell_type": "markdown",
   "metadata": {},
   "source": [
    "## Pandas Dataframe:\n",
    "- Has multiple rows and columns"
   ]
  },
  {
   "cell_type": "code",
   "execution_count": null,
   "metadata": {},
   "outputs": [],
   "source": [
    "#dictionary of list\n",
    "\n",
    "data = {\n",
    "  'Name':['Sangamesh','Nutan','Sam'],\n",
    "  'age':[21,22,23],\n",
    "  'location':['Bangaluru','Mumbai','Hydrabad']\n",
    "}\n",
    "df = pd.DataFrame(data)\n",
    "print(df)"
   ]
  },
  {
   "cell_type": "code",
   "execution_count": null,
   "metadata": {},
   "outputs": [],
   "source": [
    "# list of dictionary\n",
    "data = [{'name': 'John', 'age': 25}, \n",
    "             {'name': 'Alice ', 'age': 30}, \n",
    "             {'name': 'Bob', 'age': 35}]\n",
    "print(pd.DataFrame(data)) \n"
   ]
  },
  {
   "cell_type": "code",
   "execution_count": null,
   "metadata": {},
   "outputs": [],
   "source": [
    "df = pd.read_csv('sampleData.csv')\n",
    "print(df.head(5))"
   ]
  },
  {
   "cell_type": "code",
   "execution_count": 14,
   "metadata": {},
   "outputs": [
    {
     "name": "stdout",
     "output_type": "stream",
     "text": [
      "        Name  age   location\n",
      "0  Sangamesh   21  Bangaluru\n",
      "1      Nutan   22     Mumbai\n",
      "2        Sam   23   Hydrabad\n"
     ]
    }
   ],
   "source": [
    "data = {\n",
    "  'Name':['Sangamesh','Nutan','Sam'],\n",
    "  'age':[21,22,23],\n",
    "  'location':['Bangaluru','Mumbai','Hydrabad']\n",
    "}\n",
    "df = pd.DataFrame(data)\n",
    "print(df)"
   ]
  },
  {
   "cell_type": "code",
   "execution_count": null,
   "metadata": {},
   "outputs": [],
   "source": [
    "#for working with colums\n",
    "df['Name']"
   ]
  },
  {
   "cell_type": "code",
   "execution_count": null,
   "metadata": {},
   "outputs": [],
   "source": [
    "# for any row indexing\n",
    "df.loc[0]"
   ]
  },
  {
   "cell_type": "code",
   "execution_count": null,
   "metadata": {},
   "outputs": [],
   "source": [
    "\n",
    "df.iloc[0]\n",
    "df.iloc[0][2]"
   ]
  },
  {
   "cell_type": "code",
   "execution_count": null,
   "metadata": {},
   "outputs": [],
   "source": [
    "# Accessing a specified element\n",
    "df.at[1,'age']"
   ]
  }
 ],
 "metadata": {
  "kernelspec": {
   "display_name": "Python 3",
   "language": "python",
   "name": "python3"
  },
  "language_info": {
   "codemirror_mode": {
    "name": "ipython",
    "version": 3
   },
   "file_extension": ".py",
   "mimetype": "text/x-python",
   "name": "python",
   "nbconvert_exporter": "python",
   "pygments_lexer": "ipython3",
   "version": "3.12.0"
  }
 },
 "nbformat": 4,
 "nbformat_minor": 2
}
