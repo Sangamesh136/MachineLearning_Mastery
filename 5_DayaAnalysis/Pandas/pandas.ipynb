{
 "cells": [
  {
   "cell_type": "markdown",
   "metadata": {},
   "source": [
    "# Pandas - DataFrame and Series"
   ]
  },
  {
   "cell_type": "markdown",
   "metadata": {},
   "source": [
    "- Powerful data manipulation library\n",
    "- pandas is widely used from data analysis and cleaning\n",
    "- It provides tow data structures:\n",
    "- Series (1-dimensional labeled array of values)\n",
    "-  DataFrame (2-dimensional labeled data structure with columns of potentially different types) (size mutable)\n",
    "- It also provides data alignment, data merging, reshaping, and pivoting capabilities.\n"
   ]
  },
  {
   "cell_type": "code",
   "execution_count": 2,
   "metadata": {},
   "outputs": [],
   "source": [
    "import pandas as pd"
   ]
  },
  {
   "cell_type": "markdown",
   "metadata": {},
   "source": [
    "## Pandas Series:\n",
    "-  Series is a one-dimensional labeled array of values. It is similar to a list, but with additional features like alignment and missing data handling.  It is a powerful data structure for data manipulation and analysis. \n",
    "-  Series can be created from a list, dictionary, or other iterable. It can also be  created from a NumPy array or another Series. \n",
    "-  Series has several methods for data manipulation, such as filtering, sorting, grouping, and merging . It also has methods for statistical analysis, such as mean, median, and standard deviation.\n",
    "\n",
    "- similar to a column in a table\n",
    "\n",
    "\n",
    "\n",
    "\n"
   ]
  },
  {
   "cell_type": "markdown",
   "metadata": {},
   "source": [
    "#### Creating series from list"
   ]
  },
  {
   "cell_type": "code",
   "execution_count": 3,
   "metadata": {},
   "outputs": [
    {
     "name": "stdout",
     "output_type": "stream",
     "text": [
      "0    1\n",
      "1    2\n",
      "2    3\n",
      "3    4\n",
      "4    5\n",
      "dtype: int64\n"
     ]
    }
   ],
   "source": [
    "import pandas as pd\n",
    "data = [1,2,3,4,5]\n",
    "series = pd.Series(data)\n",
    "print(series)"
   ]
  },
  {
   "cell_type": "markdown",
   "metadata": {},
   "source": [
    "#### Creating series from a dictionary\n",
    "- In this the key becomes the index of the series"
   ]
  },
  {
   "cell_type": "code",
   "execution_count": 4,
   "metadata": {},
   "outputs": [
    {
     "name": "stdout",
     "output_type": "stream",
     "text": [
      "a    1\n",
      "b    2\n",
      "c    3\n",
      "dtype: int64\n"
     ]
    }
   ],
   "source": [
    "data = {'a':1,'b':2,'c':3}\n",
    "series = pd.Series(data)\n",
    "print(series)"
   ]
  },
  {
   "cell_type": "markdown",
   "metadata": {},
   "source": [
    "The indices can be specially assigned (custom indexing)"
   ]
  },
  {
   "cell_type": "code",
   "execution_count": 5,
   "metadata": {},
   "outputs": [
    {
     "name": "stdout",
     "output_type": "stream",
     "text": [
      "a    1\n",
      "b    2\n",
      "c    3\n",
      "z    4\n",
      "y    5\n",
      "dtype: int64\n"
     ]
    }
   ],
   "source": [
    "data = [1,2,3,4,5]\n",
    "index = ['a','b','c','z','y']\n",
    "series = pd.Series(data,index = index)\n",
    "print(series)"
   ]
  },
  {
   "cell_type": "markdown",
   "metadata": {},
   "source": [
    "## Pandas Dataframe:\n",
    "- Has multiple rows and columns"
   ]
  },
  {
   "cell_type": "code",
   "execution_count": 6,
   "metadata": {},
   "outputs": [
    {
     "name": "stdout",
     "output_type": "stream",
     "text": [
      "        Name  age   location\n",
      "0  Sangamesh   21  Bangaluru\n",
      "1      Nutan   22     Mumbai\n",
      "2        Sam   23   Hydrabad\n"
     ]
    }
   ],
   "source": [
    "#dictionary of list\n",
    "\n",
    "data = {\n",
    "  'Name':['Sangamesh','Nutan','Sam'],\n",
    "  'age':[21,22,23],\n",
    "  'location':['Bangaluru','Mumbai','Hydrabad']\n",
    "}\n",
    "df = pd.DataFrame(data)\n",
    "print(df)"
   ]
  },
  {
   "cell_type": "code",
   "execution_count": 7,
   "metadata": {},
   "outputs": [
    {
     "name": "stdout",
     "output_type": "stream",
     "text": [
      "     name  age\n",
      "0    John   25\n",
      "1  Alice    30\n",
      "2     Bob   35\n"
     ]
    }
   ],
   "source": [
    "# list of dictionary\n",
    "data = [{'name': 'John', 'age': 25}, \n",
    "             {'name': 'Alice ', 'age': 30}, \n",
    "             {'name': 'Bob', 'age': 35}]\n",
    "print(pd.DataFrame(data)) \n"
   ]
  },
  {
   "cell_type": "code",
   "execution_count": 8,
   "metadata": {},
   "outputs": [
    {
     "name": "stdout",
     "output_type": "stream",
     "text": [
      "   Index      Customer Id First Name   Last Name                    Company  \\\n",
      "0      1  ffeCAb7AbcB0f07      Jared      Jarvis           Sanchez-Fletcher   \n",
      "1      2  b687FfC4F1600eC      Marie      Malone                  Mckay PLC   \n",
      "2      3  9FF9ACbc69dcF9c     Elijah     Barrera             Marks and Sons   \n",
      "3      4  b49edDB1295FF6E     Sheryl  Montgomery  Kirby, Vaughn and Sanders   \n",
      "4      5  3dcCbFEB17CCf2E     Jeremy     Houston             Lester-Manning   \n",
      "\n",
      "             City                                       Country  \\\n",
      "0   Hatfieldshire                                       Eritrea   \n",
      "1  Robertsonburgh                                      Botswana   \n",
      "2         Kimbury                                      Barbados   \n",
      "3     Briannaview  Antarctica (the territory South of 60 deg S)   \n",
      "4   South Brianna                                    Micronesia   \n",
      "\n",
      "                Phone 1               Phone 2  \\\n",
      "0    274.188.8773x41185  001-215-760-4642x969   \n",
      "1          283-236-9529   (189)129-8356x63741   \n",
      "2            8252703789     459-916-7241x0909   \n",
      "3          425.475.3586         (392)819-9063   \n",
      "4  +1-223-666-5313x4530      252-488-3850x692   \n",
      "\n",
      "                              Email Subscription Date  \\\n",
      "0     gabriellehartman@benjamin.com        2021-11-11   \n",
      "1              kstafford@sexton.com        2021-05-14   \n",
      "2           jeanettecross@brown.com        2021-03-17   \n",
      "3          thomassierra@barrett.com        2020-09-23   \n",
      "4  rubenwatkins@jacobs-wallace.info        2020-09-18   \n",
      "\n",
      "                         Website  \n",
      "0     https://www.mccarthy.info/  \n",
      "1       http://www.reynolds.com/  \n",
      "2              https://neal.com/  \n",
      "3  https://www.powell-bryan.com/  \n",
      "4      https://www.carrillo.com/  \n"
     ]
    }
   ],
   "source": [
    "df = pd.read_csv('sampleData.csv')\n",
    "print(df.head(5))"
   ]
  },
  {
   "cell_type": "code",
   "execution_count": 9,
   "metadata": {},
   "outputs": [
    {
     "name": "stdout",
     "output_type": "stream",
     "text": [
      "        Name  age   location\n",
      "0  Sangamesh   21  Bangaluru\n",
      "1      Nutan   22     Mumbai\n",
      "2        Sam   23   Hydrabad\n"
     ]
    }
   ],
   "source": [
    "data = {\n",
    "  'Name':['Sangamesh','Nutan','Sam'],\n",
    "  'age':[21,22,23],\n",
    "  'location':['Bangaluru','Mumbai','Hydrabad']\n",
    "}\n",
    "df = pd.DataFrame(data)\n",
    "print(df)"
   ]
  },
  {
   "cell_type": "code",
   "execution_count": 10,
   "metadata": {},
   "outputs": [
    {
     "data": {
      "text/plain": [
       "0    Sangamesh\n",
       "1        Nutan\n",
       "2          Sam\n",
       "Name: Name, dtype: object"
      ]
     },
     "execution_count": 10,
     "metadata": {},
     "output_type": "execute_result"
    }
   ],
   "source": [
    "#for working with colums\n",
    "df['Name']"
   ]
  },
  {
   "cell_type": "code",
   "execution_count": 11,
   "metadata": {},
   "outputs": [
    {
     "data": {
      "text/plain": [
       "Name        Sangamesh\n",
       "age                21\n",
       "location    Bangaluru\n",
       "Name: 0, dtype: object"
      ]
     },
     "execution_count": 11,
     "metadata": {},
     "output_type": "execute_result"
    }
   ],
   "source": [
    "# for any row indexing\n",
    "df.loc[0]"
   ]
  },
  {
   "cell_type": "code",
   "execution_count": 12,
   "metadata": {},
   "outputs": [
    {
     "name": "stderr",
     "output_type": "stream",
     "text": [
      "C:\\Users\\sanga\\AppData\\Local\\Temp\\ipykernel_26168\\389714014.py:2: FutureWarning: Series.__getitem__ treating keys as positions is deprecated. In a future version, integer keys will always be treated as labels (consistent with DataFrame behavior). To access a value by position, use `ser.iloc[pos]`\n",
      "  df.iloc[0][2]\n"
     ]
    },
    {
     "data": {
      "text/plain": [
       "'Bangaluru'"
      ]
     },
     "execution_count": 12,
     "metadata": {},
     "output_type": "execute_result"
    }
   ],
   "source": [
    "\n",
    "df.iloc[0]\n",
    "df.iloc[0][2]"
   ]
  },
  {
   "cell_type": "code",
   "execution_count": 16,
   "metadata": {},
   "outputs": [
    {
     "name": "stdout",
     "output_type": "stream",
     "text": [
      "Hydrabad\n",
      "Hydrabad\n"
     ]
    }
   ],
   "source": [
    "# Accessing a specified element\n",
    "print(df.at[2,'location'])\n",
    "print(df.iat[2,2])  #giving row index as well as column index"
   ]
  },
  {
   "cell_type": "markdown",
   "metadata": {},
   "source": [
    "#### Data manipulation using DataFrames"
   ]
  },
  {
   "cell_type": "code",
   "execution_count": 17,
   "metadata": {},
   "outputs": [
    {
     "data": {
      "text/html": [
       "<div>\n",
       "<style scoped>\n",
       "    .dataframe tbody tr th:only-of-type {\n",
       "        vertical-align: middle;\n",
       "    }\n",
       "\n",
       "    .dataframe tbody tr th {\n",
       "        vertical-align: top;\n",
       "    }\n",
       "\n",
       "    .dataframe thead th {\n",
       "        text-align: right;\n",
       "    }\n",
       "</style>\n",
       "<table border=\"1\" class=\"dataframe\">\n",
       "  <thead>\n",
       "    <tr style=\"text-align: right;\">\n",
       "      <th></th>\n",
       "      <th>Name</th>\n",
       "      <th>age</th>\n",
       "      <th>location</th>\n",
       "    </tr>\n",
       "  </thead>\n",
       "  <tbody>\n",
       "    <tr>\n",
       "      <th>0</th>\n",
       "      <td>Sangamesh</td>\n",
       "      <td>21</td>\n",
       "      <td>Bangaluru</td>\n",
       "    </tr>\n",
       "    <tr>\n",
       "      <th>1</th>\n",
       "      <td>Nutan</td>\n",
       "      <td>22</td>\n",
       "      <td>Mumbai</td>\n",
       "    </tr>\n",
       "    <tr>\n",
       "      <th>2</th>\n",
       "      <td>Sam</td>\n",
       "      <td>23</td>\n",
       "      <td>Hydrabad</td>\n",
       "    </tr>\n",
       "  </tbody>\n",
       "</table>\n",
       "</div>"
      ],
      "text/plain": [
       "        Name  age   location\n",
       "0  Sangamesh   21  Bangaluru\n",
       "1      Nutan   22     Mumbai\n",
       "2        Sam   23   Hydrabad"
      ]
     },
     "execution_count": 17,
     "metadata": {},
     "output_type": "execute_result"
    }
   ],
   "source": [
    "df"
   ]
  },
  {
   "cell_type": "code",
   "execution_count": 42,
   "metadata": {},
   "outputs": [
    {
     "data": {
      "text/html": [
       "<div>\n",
       "<style scoped>\n",
       "    .dataframe tbody tr th:only-of-type {\n",
       "        vertical-align: middle;\n",
       "    }\n",
       "\n",
       "    .dataframe tbody tr th {\n",
       "        vertical-align: top;\n",
       "    }\n",
       "\n",
       "    .dataframe thead th {\n",
       "        text-align: right;\n",
       "    }\n",
       "</style>\n",
       "<table border=\"1\" class=\"dataframe\">\n",
       "  <thead>\n",
       "    <tr style=\"text-align: right;\">\n",
       "      <th></th>\n",
       "      <th>Name</th>\n",
       "      <th>age</th>\n",
       "      <th>location</th>\n",
       "      <th>Salary</th>\n",
       "    </tr>\n",
       "  </thead>\n",
       "  <tbody>\n",
       "    <tr>\n",
       "      <th>0</th>\n",
       "      <td>Sangamesh</td>\n",
       "      <td>21</td>\n",
       "      <td>Bangaluru</td>\n",
       "      <td>50000</td>\n",
       "    </tr>\n",
       "    <tr>\n",
       "      <th>1</th>\n",
       "      <td>Nutan</td>\n",
       "      <td>22</td>\n",
       "      <td>Mumbai</td>\n",
       "      <td>60000</td>\n",
       "    </tr>\n",
       "    <tr>\n",
       "      <th>2</th>\n",
       "      <td>Sam</td>\n",
       "      <td>23</td>\n",
       "      <td>Hydrabad</td>\n",
       "      <td>70000</td>\n",
       "    </tr>\n",
       "  </tbody>\n",
       "</table>\n",
       "</div>"
      ],
      "text/plain": [
       "        Name  age   location  Salary\n",
       "0  Sangamesh   21  Bangaluru   50000\n",
       "1      Nutan   22     Mumbai   60000\n",
       "2        Sam   23   Hydrabad   70000"
      ]
     },
     "execution_count": 42,
     "metadata": {},
     "output_type": "execute_result"
    }
   ],
   "source": [
    "# Adding a new column\n",
    "df['Salary']= [50000,60000,70000]\n",
    "df"
   ]
  },
  {
   "cell_type": "code",
   "execution_count": 43,
   "metadata": {},
   "outputs": [
    {
     "data": {
      "text/html": [
       "<div>\n",
       "<style scoped>\n",
       "    .dataframe tbody tr th:only-of-type {\n",
       "        vertical-align: middle;\n",
       "    }\n",
       "\n",
       "    .dataframe tbody tr th {\n",
       "        vertical-align: top;\n",
       "    }\n",
       "\n",
       "    .dataframe thead th {\n",
       "        text-align: right;\n",
       "    }\n",
       "</style>\n",
       "<table border=\"1\" class=\"dataframe\">\n",
       "  <thead>\n",
       "    <tr style=\"text-align: right;\">\n",
       "      <th></th>\n",
       "      <th>Name</th>\n",
       "      <th>age</th>\n",
       "      <th>location</th>\n",
       "    </tr>\n",
       "  </thead>\n",
       "  <tbody>\n",
       "    <tr>\n",
       "      <th>0</th>\n",
       "      <td>Sangamesh</td>\n",
       "      <td>21</td>\n",
       "      <td>Bangaluru</td>\n",
       "    </tr>\n",
       "    <tr>\n",
       "      <th>1</th>\n",
       "      <td>Nutan</td>\n",
       "      <td>22</td>\n",
       "      <td>Mumbai</td>\n",
       "    </tr>\n",
       "    <tr>\n",
       "      <th>2</th>\n",
       "      <td>Sam</td>\n",
       "      <td>23</td>\n",
       "      <td>Hydrabad</td>\n",
       "    </tr>\n",
       "  </tbody>\n",
       "</table>\n",
       "</div>"
      ],
      "text/plain": [
       "        Name  age   location\n",
       "0  Sangamesh   21  Bangaluru\n",
       "1      Nutan   22     Mumbai\n",
       "2        Sam   23   Hydrabad"
      ]
     },
     "execution_count": 43,
     "metadata": {},
     "output_type": "execute_result"
    }
   ],
   "source": [
    "# Deleting a column\n",
    "df.drop('Salary',axis=1,inplace=True)\n",
    "df\n"
   ]
  },
  {
   "cell_type": "markdown",
   "metadata": {},
   "source": [
    "```inplace= True``` this is used to update the existing dataframe while ```axis=1``` is used to specify the perticular column"
   ]
  },
  {
   "cell_type": "markdown",
   "metadata": {},
   "source": [
    "- incrementing age to the column"
   ]
  },
  {
   "cell_type": "code",
   "execution_count": 51,
   "metadata": {},
   "outputs": [
    {
     "data": {
      "text/html": [
       "<div>\n",
       "<style scoped>\n",
       "    .dataframe tbody tr th:only-of-type {\n",
       "        vertical-align: middle;\n",
       "    }\n",
       "\n",
       "    .dataframe tbody tr th {\n",
       "        vertical-align: top;\n",
       "    }\n",
       "\n",
       "    .dataframe thead th {\n",
       "        text-align: right;\n",
       "    }\n",
       "</style>\n",
       "<table border=\"1\" class=\"dataframe\">\n",
       "  <thead>\n",
       "    <tr style=\"text-align: right;\">\n",
       "      <th></th>\n",
       "      <th>Name</th>\n",
       "      <th>age</th>\n",
       "      <th>location</th>\n",
       "    </tr>\n",
       "  </thead>\n",
       "  <tbody>\n",
       "    <tr>\n",
       "      <th>1</th>\n",
       "      <td>Nutan</td>\n",
       "      <td>24</td>\n",
       "      <td>Mumbai</td>\n",
       "    </tr>\n",
       "    <tr>\n",
       "      <th>2</th>\n",
       "      <td>Sam</td>\n",
       "      <td>25</td>\n",
       "      <td>Hydrabad</td>\n",
       "    </tr>\n",
       "  </tbody>\n",
       "</table>\n",
       "</div>"
      ],
      "text/plain": [
       "    Name  age  location\n",
       "1  Nutan   24    Mumbai\n",
       "2    Sam   25  Hydrabad"
      ]
     },
     "execution_count": 51,
     "metadata": {},
     "output_type": "execute_result"
    }
   ],
   "source": [
    "df['age']=df['age']+1\n",
    "df"
   ]
  },
  {
   "cell_type": "markdown",
   "metadata": {},
   "source": [
    "- Droping based on the rows using index"
   ]
  },
  {
   "cell_type": "code",
   "execution_count": null,
   "metadata": {},
   "outputs": [],
   "source": [
    "df.drop(0,inplace = True)\n",
    "df"
   ]
  },
  {
   "cell_type": "markdown",
   "metadata": {},
   "source": [
    "#### Some important attributes of DataFrames:"
   ]
  },
  {
   "cell_type": "code",
   "execution_count": 53,
   "metadata": {},
   "outputs": [
    {
     "data": {
      "text/html": [
       "<div>\n",
       "<style scoped>\n",
       "    .dataframe tbody tr th:only-of-type {\n",
       "        vertical-align: middle;\n",
       "    }\n",
       "\n",
       "    .dataframe tbody tr th {\n",
       "        vertical-align: top;\n",
       "    }\n",
       "\n",
       "    .dataframe thead th {\n",
       "        text-align: right;\n",
       "    }\n",
       "</style>\n",
       "<table border=\"1\" class=\"dataframe\">\n",
       "  <thead>\n",
       "    <tr style=\"text-align: right;\">\n",
       "      <th></th>\n",
       "      <th>Index</th>\n",
       "      <th>Customer Id</th>\n",
       "      <th>First Name</th>\n",
       "      <th>Last Name</th>\n",
       "      <th>Company</th>\n",
       "      <th>City</th>\n",
       "      <th>Country</th>\n",
       "      <th>Phone 1</th>\n",
       "      <th>Phone 2</th>\n",
       "      <th>Email</th>\n",
       "      <th>Subscription Date</th>\n",
       "      <th>Website</th>\n",
       "    </tr>\n",
       "  </thead>\n",
       "  <tbody>\n",
       "    <tr>\n",
       "      <th>0</th>\n",
       "      <td>1</td>\n",
       "      <td>ffeCAb7AbcB0f07</td>\n",
       "      <td>Jared</td>\n",
       "      <td>Jarvis</td>\n",
       "      <td>Sanchez-Fletcher</td>\n",
       "      <td>Hatfieldshire</td>\n",
       "      <td>Eritrea</td>\n",
       "      <td>274.188.8773x41185</td>\n",
       "      <td>001-215-760-4642x969</td>\n",
       "      <td>gabriellehartman@benjamin.com</td>\n",
       "      <td>2021-11-11</td>\n",
       "      <td>https://www.mccarthy.info/</td>\n",
       "    </tr>\n",
       "    <tr>\n",
       "      <th>1</th>\n",
       "      <td>2</td>\n",
       "      <td>b687FfC4F1600eC</td>\n",
       "      <td>Marie</td>\n",
       "      <td>Malone</td>\n",
       "      <td>Mckay PLC</td>\n",
       "      <td>Robertsonburgh</td>\n",
       "      <td>Botswana</td>\n",
       "      <td>283-236-9529</td>\n",
       "      <td>(189)129-8356x63741</td>\n",
       "      <td>kstafford@sexton.com</td>\n",
       "      <td>2021-05-14</td>\n",
       "      <td>http://www.reynolds.com/</td>\n",
       "    </tr>\n",
       "    <tr>\n",
       "      <th>2</th>\n",
       "      <td>3</td>\n",
       "      <td>9FF9ACbc69dcF9c</td>\n",
       "      <td>Elijah</td>\n",
       "      <td>Barrera</td>\n",
       "      <td>Marks and Sons</td>\n",
       "      <td>Kimbury</td>\n",
       "      <td>Barbados</td>\n",
       "      <td>8252703789</td>\n",
       "      <td>459-916-7241x0909</td>\n",
       "      <td>jeanettecross@brown.com</td>\n",
       "      <td>2021-03-17</td>\n",
       "      <td>https://neal.com/</td>\n",
       "    </tr>\n",
       "    <tr>\n",
       "      <th>3</th>\n",
       "      <td>4</td>\n",
       "      <td>b49edDB1295FF6E</td>\n",
       "      <td>Sheryl</td>\n",
       "      <td>Montgomery</td>\n",
       "      <td>Kirby, Vaughn and Sanders</td>\n",
       "      <td>Briannaview</td>\n",
       "      <td>Antarctica (the territory South of 60 deg S)</td>\n",
       "      <td>425.475.3586</td>\n",
       "      <td>(392)819-9063</td>\n",
       "      <td>thomassierra@barrett.com</td>\n",
       "      <td>2020-09-23</td>\n",
       "      <td>https://www.powell-bryan.com/</td>\n",
       "    </tr>\n",
       "    <tr>\n",
       "      <th>4</th>\n",
       "      <td>5</td>\n",
       "      <td>3dcCbFEB17CCf2E</td>\n",
       "      <td>Jeremy</td>\n",
       "      <td>Houston</td>\n",
       "      <td>Lester-Manning</td>\n",
       "      <td>South Brianna</td>\n",
       "      <td>Micronesia</td>\n",
       "      <td>+1-223-666-5313x4530</td>\n",
       "      <td>252-488-3850x692</td>\n",
       "      <td>rubenwatkins@jacobs-wallace.info</td>\n",
       "      <td>2020-09-18</td>\n",
       "      <td>https://www.carrillo.com/</td>\n",
       "    </tr>\n",
       "  </tbody>\n",
       "</table>\n",
       "</div>"
      ],
      "text/plain": [
       "   Index      Customer Id First Name   Last Name                    Company  \\\n",
       "0      1  ffeCAb7AbcB0f07      Jared      Jarvis           Sanchez-Fletcher   \n",
       "1      2  b687FfC4F1600eC      Marie      Malone                  Mckay PLC   \n",
       "2      3  9FF9ACbc69dcF9c     Elijah     Barrera             Marks and Sons   \n",
       "3      4  b49edDB1295FF6E     Sheryl  Montgomery  Kirby, Vaughn and Sanders   \n",
       "4      5  3dcCbFEB17CCf2E     Jeremy     Houston             Lester-Manning   \n",
       "\n",
       "             City                                       Country  \\\n",
       "0   Hatfieldshire                                       Eritrea   \n",
       "1  Robertsonburgh                                      Botswana   \n",
       "2         Kimbury                                      Barbados   \n",
       "3     Briannaview  Antarctica (the territory South of 60 deg S)   \n",
       "4   South Brianna                                    Micronesia   \n",
       "\n",
       "                Phone 1               Phone 2  \\\n",
       "0    274.188.8773x41185  001-215-760-4642x969   \n",
       "1          283-236-9529   (189)129-8356x63741   \n",
       "2            8252703789     459-916-7241x0909   \n",
       "3          425.475.3586         (392)819-9063   \n",
       "4  +1-223-666-5313x4530      252-488-3850x692   \n",
       "\n",
       "                              Email Subscription Date  \\\n",
       "0     gabriellehartman@benjamin.com        2021-11-11   \n",
       "1              kstafford@sexton.com        2021-05-14   \n",
       "2           jeanettecross@brown.com        2021-03-17   \n",
       "3          thomassierra@barrett.com        2020-09-23   \n",
       "4  rubenwatkins@jacobs-wallace.info        2020-09-18   \n",
       "\n",
       "                         Website  \n",
       "0     https://www.mccarthy.info/  \n",
       "1       http://www.reynolds.com/  \n",
       "2              https://neal.com/  \n",
       "3  https://www.powell-bryan.com/  \n",
       "4      https://www.carrillo.com/  "
      ]
     },
     "execution_count": 53,
     "metadata": {},
     "output_type": "execute_result"
    }
   ],
   "source": [
    "df= pd.read_csv('sampleData.csv')\n",
    "df.head(5)"
   ]
  },
  {
   "cell_type": "code",
   "execution_count": 54,
   "metadata": {},
   "outputs": [
    {
     "data": {
      "text/html": [
       "<div>\n",
       "<style scoped>\n",
       "    .dataframe tbody tr th:only-of-type {\n",
       "        vertical-align: middle;\n",
       "    }\n",
       "\n",
       "    .dataframe tbody tr th {\n",
       "        vertical-align: top;\n",
       "    }\n",
       "\n",
       "    .dataframe thead th {\n",
       "        text-align: right;\n",
       "    }\n",
       "</style>\n",
       "<table border=\"1\" class=\"dataframe\">\n",
       "  <thead>\n",
       "    <tr style=\"text-align: right;\">\n",
       "      <th></th>\n",
       "      <th>Index</th>\n",
       "    </tr>\n",
       "  </thead>\n",
       "  <tbody>\n",
       "    <tr>\n",
       "      <th>count</th>\n",
       "      <td>100000.000000</td>\n",
       "    </tr>\n",
       "    <tr>\n",
       "      <th>mean</th>\n",
       "      <td>50000.500000</td>\n",
       "    </tr>\n",
       "    <tr>\n",
       "      <th>std</th>\n",
       "      <td>28867.657797</td>\n",
       "    </tr>\n",
       "    <tr>\n",
       "      <th>min</th>\n",
       "      <td>1.000000</td>\n",
       "    </tr>\n",
       "    <tr>\n",
       "      <th>25%</th>\n",
       "      <td>25000.750000</td>\n",
       "    </tr>\n",
       "    <tr>\n",
       "      <th>50%</th>\n",
       "      <td>50000.500000</td>\n",
       "    </tr>\n",
       "    <tr>\n",
       "      <th>75%</th>\n",
       "      <td>75000.250000</td>\n",
       "    </tr>\n",
       "    <tr>\n",
       "      <th>max</th>\n",
       "      <td>100000.000000</td>\n",
       "    </tr>\n",
       "  </tbody>\n",
       "</table>\n",
       "</div>"
      ],
      "text/plain": [
       "               Index\n",
       "count  100000.000000\n",
       "mean    50000.500000\n",
       "std     28867.657797\n",
       "min         1.000000\n",
       "25%     25000.750000\n",
       "50%     50000.500000\n",
       "75%     75000.250000\n",
       "max    100000.000000"
      ]
     },
     "execution_count": 54,
     "metadata": {},
     "output_type": "execute_result"
    }
   ],
   "source": [
    "df.describe()"
   ]
  },
  {
   "cell_type": "code",
   "execution_count": null,
   "metadata": {},
   "outputs": [],
   "source": []
  }
 ],
 "metadata": {
  "kernelspec": {
   "display_name": "Python 3",
   "language": "python",
   "name": "python3"
  },
  "language_info": {
   "codemirror_mode": {
    "name": "ipython",
    "version": 3
   },
   "file_extension": ".py",
   "mimetype": "text/x-python",
   "name": "python",
   "nbconvert_exporter": "python",
   "pygments_lexer": "ipython3",
   "version": "3.12.0"
  }
 },
 "nbformat": 4,
 "nbformat_minor": 2
}
